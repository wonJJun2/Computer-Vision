{
 "cells": [
  {
   "cell_type": "code",
   "execution_count": null,
   "metadata": {},
   "outputs": [],
   "source": [
    "import cv2\n",
    "import matplotlib.pyplot as plt\n",
    "\n",
    "image = cv2.imread('digit_image.png')\n",
    "image_gray = cv2.cvtColor(image, cv2.COLOR_BGR2GRAY)\n",
    "ret, thresh = cv2.threshold(image_gray, 230, 255, 0) # 픽셀 값이 230 보다 큰 경우 255, 원본은 배경이 하얀색\n",
    "thresh = cv2.bitwise_not(thresh) # 검정과 하얀색 반전\n",
    "\n",
    "contours = cv2.findContours(thresh, cv2.RETR_TREE, cv2.CHAIN_APPROX_SIMPLE)[0]\n",
    "image = cv2.drawContours(image, contours, -1, (0,255,0), 4)\n",
    "\n",
    "contour = contours[0]\n",
    "area = cv2.contourArea(contour)\n",
    "print(area)\n",
    "\n",
    "length = cv2.arcLength(contour, True)\n",
    "print(length)\n",
    "\n",
    "M = cv2.moments(contour)\n",
    "print(M)\n",
    "\n",
    "plt.imshow(cv2.cvtColor(image,cv2.COLOR_BGR2RGB))\n",
    "plt.show()"
   ]
  }
 ],
 "metadata": {
  "language_info": {
   "name": "python"
  },
  "orig_nbformat": 4
 },
 "nbformat": 4,
 "nbformat_minor": 2
}
