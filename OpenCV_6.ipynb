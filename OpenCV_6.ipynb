{
 "cells": [
  {
   "cell_type": "code",
   "execution_count": null,
   "metadata": {},
   "outputs": [],
   "source": [
    "import cv2\n",
    "import matplotlib.pyplot as plt\n",
    "\n",
    "image = cv2.imread('gray_image.jpg', cv2.IMREAD_GRAYSCALE)\n",
    "\n",
    "images = []\n",
    "ret, thres1 = cv2.threshold(image, 127, 255, cv2.THRESH_BINARY) # ret은 return의 성격, 잘 읽어왔다면 thresh 값 반환\n",
    "ret, thres2 = cv2.threshold(image, 127, 255, cv2.THRESH_BINARY_INV)\n",
    "ret, thres3 = cv2.threshold(image, 127, 255, cv2.THRESH_TRUNC)\n",
    "ret, thres4 = cv2.threshold(image, 127, 255, cv2.THRESH_TOZERO)\n",
    "ret, thres5 = cv2.threshold(image, 127, 255, cv2.THRESH_TOZERO_INV)\n",
    "images.append(thres1)\n",
    "images.append(thres2)\n",
    "images.append(thres3)\n",
    "images.append(thres4)\n",
    "images.append(thres5)\n",
    "\n",
    "for i in images:\n",
    "    plt.imshow(cv2.cvtColor(i, cv2.COLOR_GRAY2RGB))\n",
    "    plt.show()"
   ]
  }
 ],
 "metadata": {
  "language_info": {
   "name": "python"
  },
  "orig_nbformat": 4
 },
 "nbformat": 4,
 "nbformat_minor": 2
}
