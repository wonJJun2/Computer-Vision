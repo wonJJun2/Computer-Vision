{
 "cells": [
  {
   "cell_type": "code",
   "execution_count": null,
   "metadata": {},
   "outputs": [],
   "source": [
    "import cv2\n",
    "import numpy as np\n",
    "\n",
    "def change_color(x):\n",
    "    r = cv2.getTrackbarPos(\"R\", \"Image\")\n",
    "    g = cv2.getTrackbarPos(\"G\", \"Image\")\n",
    "    b = cv2.getTrackbarPos(\"B\", \"Image\")\n",
    "    image[:] = [b,g,r]\n",
    "    cv2.imshow('Image',image)\n",
    "    \n",
    "image = np.zeros((600, 400, 3), np.uint8)\n",
    "cv2.nameWindow(\"Image\")\n",
    "\n",
    "cv2.createTrackbar(\"R\", \"Image\", 0, 255, change_color)\n",
    "cv2.createTrackbar(\"G\", \"Image\", 0, 255, change_color)\n",
    "cv2.createTrackbar(\"B\", \"Image\", 0, 255, change_color)\n",
    "\n",
    "cv2.imshow('Image', image)\n",
    "cv2.waitKey(0)"
   ]
  }
 ],
 "metadata": {
  "language_info": {
   "name": "python"
  },
  "orig_nbformat": 4
 },
 "nbformat": 4,
 "nbformat_minor": 2
}
