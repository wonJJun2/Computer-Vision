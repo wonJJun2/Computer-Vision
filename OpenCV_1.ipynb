{
 "cells": [
  {
   "cell_type": "code",
   "execution_count": null,
   "metadata": {},
   "outputs": [],
   "source": [
    "!pip install opencv-python\n",
    "\n",
    "import cv2\n",
    "img_basic = cv2.imread('test.jpg', cv2.IMREAD_COLOR) \n",
    "cv2.imshow('Image Basic', img_basic)\n",
    "cv2.waitKey(0) # 입력 값 아스키 코드로 반환\n",
    "\n",
    "# 화면의 모든 윈도우 닫기\n",
    "cv2.destroyAllWindows()\n",
    "\n",
    "# 컬러이미지 그레이 스케일로 변경\n",
    "img_gray = cv2.cvtColor(img_basic, cv2.COLOR_BGR2GRAY)\n",
    "cv2.imshow('Image Gray', img_gray)\n",
    "cv2.waitKey(0) "
   ]
  }
 ],
 "metadata": {
  "language_info": {
   "name": "python"
  },
  "orig_nbformat": 4
 },
 "nbformat": 4,
 "nbformat_minor": 2
}
