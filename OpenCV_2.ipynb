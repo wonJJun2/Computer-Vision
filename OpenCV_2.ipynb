{
 "cells": [
  {
   "cell_type": "code",
   "execution_count": null,
   "metadata": {},
   "outputs": [],
   "source": [
    "import cv2\n",
    "import matplotlib.pyplot as plt # opencv는 BGR 순이지만 plt는 RGB 순으로 따른다.\n",
    "\n",
    "image = cv2.imread('test.jpg')\n",
    "plt.imshow(cv2.cvtColor(image, cv2.COLOR_BGR2RGB))\n",
    "plt.show()\n",
    "\n",
    "# 이미지 확장\n",
    "expand = cv2.resize(image, None, fx=2.0, fy = 2.0, interpolation = cv2.INTER_CUBIC)\n",
    "plt.imshow(cv2.cvtColor(expand, cv2.COLOR_BGR2RGB))\n",
    "plt.show()\n",
    "\n",
    "# 이미지 축소\n",
    "shrink = cv2.resize(image, None, fx=0.8, fy = 0.8, interpolation = cv2.INTER_AREA)\n",
    "plt.imshow(cv2.cvtColor(shrink, cv2.COLOR_BGR2RGB))\n",
    "plt.show()"
   ]
  }
 ],
 "metadata": {
  "language_info": {
   "name": "python"
  },
  "orig_nbformat": 4
 },
 "nbformat": 4,
 "nbformat_minor": 2
}
