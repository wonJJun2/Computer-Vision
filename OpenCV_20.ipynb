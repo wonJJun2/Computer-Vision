{
 "cells": [
  {
   "cell_type": "code",
   "execution_count": null,
   "metadata": {},
   "outputs": [],
   "source": [
    "# Gaussian Blur\n",
    "\n",
    "import cv2\n",
    "image = cv2.imread('gray_image.jpg')\n",
    "plt.imshow(cv2.cvtColor(image, cv2.COLOR_BGR2RGB))\n",
    "plt.show()\n",
    "\n",
    "# kernel_size : 홀수\n",
    "dst = cv2.GaussianBlur(image, (5,5), 0)\n",
    "plt.imshow(cv2.cvtColor(dst, cv2.COLOR_BGR2RGB))\n",
    "plt.show()"
   ]
  }
 ],
 "metadata": {
  "language_info": {
   "name": "python"
  },
  "orig_nbformat": 4
 },
 "nbformat": 4,
 "nbformat_minor": 2
}
