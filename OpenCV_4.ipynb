{
 "cells": [
  {
   "cell_type": "code",
   "execution_count": null,
   "metadata": {},
   "outputs": [],
   "source": [
    "import cv2\n",
    "import matplotlib.pyplot as plt\n",
    "import numpy as np\n",
    "\n",
    "image = cv2.imread('test.jpg')\n",
    "\n",
    "# 행과 열 정보만 저장\n",
    "height, width = image.shape[:2]\n",
    "\n",
    "M = cv2.getRotationMatrix2D((width / 2, height / 2), 90, 0.5)\n",
    "dst =  cv2.warpAffine(image, M, (width, height))\n",
    "\n",
    "plt.imshow(cv2.cvtColor(dst, cv2.COLOR_BGR2RGB))\n",
    "plt.show()"
   ]
  }
 ],
 "metadata": {
  "language_info": {
   "name": "python"
  },
  "orig_nbformat": 4
 },
 "nbformat": 4,
 "nbformat_minor": 2
}
