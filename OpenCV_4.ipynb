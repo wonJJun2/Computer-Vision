import cv2
import matplotlib.pyplot as plt
import numpy as np

image = cv2.imread('test.jpg')

# 행과 열 정보만 저장
height, width = image.shape[:2]

M = cv2.getRotationMatrix2D((width / 2, height / 2), 90, 0.5)
dst =  cv2.warpAffine(image, M, (width, height))

plt.imshow(cv2.cvtColor(dst, cv2.COLOR_BGR2RGB))
plt.show()
