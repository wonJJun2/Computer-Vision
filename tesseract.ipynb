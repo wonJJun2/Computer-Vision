{
 "cells": [
  {
   "cell_type": "code",
   "execution_count": 25,
   "id": "47a34876",
   "metadata": {},
   "outputs": [
    {
     "name": "stdout",
     "output_type": "stream",
     "text": [
      "Requirement already satisfied: pytesseract in c:\\users\\user\\anaconda3\\lib\\site-packages (0.3.9)\n",
      "Requirement already satisfied: packaging>=21.3 in c:\\users\\user\\anaconda3\\lib\\site-packages (from pytesseract) (21.3)\n",
      "Requirement already satisfied: Pillow>=8.0.0 in c:\\users\\user\\anaconda3\\lib\\site-packages (from pytesseract) (8.2.0)\n",
      "Requirement already satisfied: pyparsing!=3.0.5,>=2.0.2 in c:\\users\\user\\anaconda3\\lib\\site-packages (from packaging>=21.3->pytesseract) (2.4.7)\n"
     ]
    },
    {
     "name": "stderr",
     "output_type": "stream",
     "text": [
      "WARNING: Ignoring invalid distribution -pype1 (c:\\users\\user\\anaconda3\\lib\\site-packages)\n",
      "WARNING: Ignoring invalid distribution - (c:\\users\\user\\anaconda3\\lib\\site-packages)\n",
      "WARNING: Ignoring invalid distribution -ensorflow-gpu (c:\\users\\user\\anaconda3\\lib\\site-packages)\n",
      "WARNING: Ignoring invalid distribution -pype1 (c:\\users\\user\\anaconda3\\lib\\site-packages)\n",
      "WARNING: Ignoring invalid distribution - (c:\\users\\user\\anaconda3\\lib\\site-packages)\n",
      "WARNING: Ignoring invalid distribution -ensorflow-gpu (c:\\users\\user\\anaconda3\\lib\\site-packages)\n",
      "WARNING: Ignoring invalid distribution -pype1 (c:\\users\\user\\anaconda3\\lib\\site-packages)\n",
      "WARNING: Ignoring invalid distribution - (c:\\users\\user\\anaconda3\\lib\\site-packages)\n",
      "WARNING: Ignoring invalid distribution -ensorflow-gpu (c:\\users\\user\\anaconda3\\lib\\site-packages)\n",
      "WARNING: Error parsing requirements for pybind11: [Errno 2] No such file or directory: 'c:\\\\users\\\\user\\\\anaconda3\\\\lib\\\\site-packages\\\\pybind11-2.8.0.dist-info\\\\METADATA'\n",
      "WARNING: Ignoring invalid distribution -pype1 (c:\\users\\user\\anaconda3\\lib\\site-packages)\n",
      "WARNING: Ignoring invalid distribution - (c:\\users\\user\\anaconda3\\lib\\site-packages)\n",
      "WARNING: Ignoring invalid distribution -ensorflow-gpu (c:\\users\\user\\anaconda3\\lib\\site-packages)\n",
      "WARNING: Ignoring invalid distribution -pype1 (c:\\users\\user\\anaconda3\\lib\\site-packages)\n",
      "WARNING: Ignoring invalid distribution - (c:\\users\\user\\anaconda3\\lib\\site-packages)\n",
      "WARNING: Ignoring invalid distribution -ensorflow-gpu (c:\\users\\user\\anaconda3\\lib\\site-packages)\n"
     ]
    }
   ],
   "source": [
    "!pip install pytesseract"
   ]
  },
  {
   "cell_type": "code",
   "execution_count": 26,
   "id": "696815fe",
   "metadata": {},
   "outputs": [],
   "source": [
    "from PIL import Image\n",
    "from pytesseract import *\n",
    "import re\n",
    "import cv2"
   ]
  },
  {
   "cell_type": "code",
   "execution_count": 58,
   "id": "3bdcfe8a",
   "metadata": {},
   "outputs": [],
   "source": [
    "config = ('-l kor --oem 3 --psm 4')"
   ]
  },
  {
   "cell_type": "code",
   "execution_count": 88,
   "id": "a4658f11",
   "metadata": {},
   "outputs": [],
   "source": [
    "im = cv2.imread('test.jpg')"
   ]
  },
  {
   "cell_type": "code",
   "execution_count": 89,
   "id": "06d74c33",
   "metadata": {},
   "outputs": [
    {
     "name": "stdout",
     "output_type": "stream",
     "text": [
      "0 그4000000) 해\n",
      "\n",
      "014으개어 그 캘의  아도자피\n",
      "\n"
     ]
    }
   ],
   "source": [
    "print(pytesseract.image_to_string(im,config = config))"
   ]
  },
  {
   "cell_type": "code",
   "execution_count": 90,
   "id": "fe542ae6",
   "metadata": {},
   "outputs": [],
   "source": [
    "img_gray = cv2.imread('test.jpg',cv2.IMREAD_GRAYSCALE)"
   ]
  },
  {
   "cell_type": "code",
   "execution_count": 91,
   "id": "d01b7123",
   "metadata": {},
   "outputs": [
    {
     "data": {
      "text/plain": [
       "array([[0, 0, 0, ..., 0, 0, 0],\n",
       "       [0, 0, 0, ..., 0, 0, 0],\n",
       "       [0, 0, 0, ..., 0, 0, 0],\n",
       "       ...,\n",
       "       [0, 0, 0, ..., 0, 0, 0],\n",
       "       [0, 0, 0, ..., 0, 0, 0],\n",
       "       [0, 0, 0, ..., 0, 0, 0]], dtype=uint8)"
      ]
     },
     "execution_count": 91,
     "metadata": {},
     "output_type": "execute_result"
    }
   ],
   "source": [
    "img_gray"
   ]
  },
  {
   "cell_type": "code",
   "execution_count": 92,
   "id": "b9c055c1",
   "metadata": {},
   "outputs": [
    {
     "name": "stdout",
     "output_type": "stream",
     "text": [
      "이제는 04000 하\n",
      "\n",
      "사0으스녀령 2 그램의 달라진점!\n",
      "\n"
     ]
    }
   ],
   "source": [
    "print(pytesseract.image_to_string(img_gray,config = config))"
   ]
  },
  {
   "cell_type": "code",
   "execution_count": 93,
   "id": "a74f36e1",
   "metadata": {},
   "outputs": [],
   "source": [
    "config2 = ('-l eng --oem 3 --psm 4')"
   ]
  },
  {
   "cell_type": "code",
   "execution_count": 94,
   "id": "7bb44d7f",
   "metadata": {},
   "outputs": [
    {
     "name": "stdout",
     "output_type": "stream",
     "text": [
      "OWN RTX 20508. 201\n",
      "\n",
      "202248 LG Sze] taeda!\n",
      "\n"
     ]
    }
   ],
   "source": [
    "print(pytesseract.image_to_string(im,config = config2))"
   ]
  },
  {
   "cell_type": "code",
   "execution_count": 95,
   "id": "b69f41ea",
   "metadata": {},
   "outputs": [
    {
     "name": "stdout",
     "output_type": "stream",
     "text": [
      "orm RTX 20508. 20!\n",
      "\n",
      "BOso Me LG 10) EEpHatay!\n",
      "\n"
     ]
    }
   ],
   "source": [
    "print(pytesseract.image_to_string(img_gray,config = config2))"
   ]
  },
  {
   "cell_type": "code",
   "execution_count": 98,
   "id": "840dfd30",
   "metadata": {},
   "outputs": [
    {
     "name": "stdout",
     "output_type": "stream",
     "text": [
      "추출 한글 :  0 그4000000) 해\n",
      "\n",
      "014으개어 그 캘의  아도자피\n",
      "\n",
      "그레이 변환 후 추출 한글 :  이제는 04000 하\n",
      "\n",
      "사0으스녀령 2 그램의 달라진점!\n",
      "\n",
      "추출 영어 :  OWN RTX 20508. 201\n",
      "\n",
      "202248 LG Sze] taeda!\n",
      "\n",
      "그레이 변환 후 추출 영어 :  orm RTX 20508. 20!\n",
      "\n",
      "BOso Me LG 10) EEpHatay!\n",
      "\n"
     ]
    }
   ],
   "source": [
    "print('추출 한글 : ',pytesseract.image_to_string(im,config = config))\n",
    "print('그레이 변환 후 추출 한글 : ' ,pytesseract.image_to_string(img_gray,config = config))\n",
    "print('추출 영어 : ',pytesseract.image_to_string(im,config = config2))\n",
    "print('그레이 변환 후 추출 영어 : ' ,pytesseract.image_to_string(img_gray,config = config2))"
   ]
  },
  {
   "cell_type": "code",
   "execution_count": null,
   "id": "629aa7f0",
   "metadata": {},
   "outputs": [],
   "source": []
  }
 ],
 "metadata": {
  "kernelspec": {
   "display_name": "Python 3",
   "language": "python",
   "name": "python3"
  },
  "language_info": {
   "codemirror_mode": {
    "name": "ipython",
    "version": 3
   },
   "file_extension": ".py",
   "mimetype": "text/x-python",
   "name": "python",
   "nbconvert_exporter": "python",
   "pygments_lexer": "ipython3",
   "version": "3.8.8"
  }
 },
 "nbformat": 4,
 "nbformat_minor": 5
}
