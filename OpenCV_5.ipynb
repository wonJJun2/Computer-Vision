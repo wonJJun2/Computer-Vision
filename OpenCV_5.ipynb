{
 "cells": [
  {
   "cell_type": "code",
   "execution_count": null,
   "metadata": {},
   "outputs": [],
   "source": [
    "import cv2\n",
    "import matplotlib.pyplot as plt\n",
    "\n",
    "image_1 = cv2.imread('test.jpg')\n",
    "image_2 = cv2.imread('test3.jpg')\n",
    "\n",
    "result = cv2.add(image_1,image_2) # 이미지 배열의 크기가 같아야 한다.\n",
    "plt.imshow(cv2.cvtColor(result, cv2.COLOR_BGR2RGB))\n",
    "plt.show()\n",
    "\n",
    "result = image_1 + image_2\n",
    "plt.imshow(cv2.cvtColor(result, cv2.COLOR_BGR2RGB))\n",
    "plt.show()"
   ]
  }
 ],
 "metadata": {
  "language_info": {
   "name": "python"
  },
  "orig_nbformat": 4
 },
 "nbformat": 4,
 "nbformat_minor": 2
}
