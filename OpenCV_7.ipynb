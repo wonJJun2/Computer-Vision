{
 "cells": [
  {
   "cell_type": "code",
   "execution_count": null,
   "metadata": {},
   "outputs": [],
   "source": [
    "import cv2\n",
    "\n",
    "image = cv2.imread('hand_writing_image.jpg', cv2.IMREAD_GRAYSCALE)\n",
    "\n",
    "ret, thres1 = cv2.threshold(image, 127, 255, cv2.THRESH_BINARY)\n",
    "thres2 = cv2.adaptiveThreshold(image, 255, cv2.ADAPTIVE_THRESH_MEAN_C, cv2.THRESH_BINARY, 21, 3)\n",
    "\n",
    "plt.imshow(cv2.cvtColor(image, cv2.COLOR_GRAY2RGB))\n",
    "plt.show()\n",
    "\n",
    "plt.imshow(cv2.cvtColor(thres1, cv2.COLOR_GRAY2RGB))\n",
    "plt.show()\n",
    "\n",
    "plt.imshow(cv2.cvtColor(thres2, cv2.COLOR_GRAY2RGB))\n",
    "plt.show()"
   ]
  }
 ],
 "metadata": {
  "language_info": {
   "name": "python"
  },
  "orig_nbformat": 4
 },
 "nbformat": 4,
 "nbformat_minor": 2
}
